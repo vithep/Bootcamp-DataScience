{
 "cells": [
  {
   "cell_type": "markdown",
   "metadata": {},
   "source": [
    "# Coleta de Dados no MySQL utilizando o R"
   ]
  },
  {
   "cell_type": "markdown",
   "metadata": {},
   "source": [
    "#### Para mais detalhes sobre a biblioteca RMariaDB consulte:\n",
    "* https://cran.r-project.org/web/packages/RMariaDB/RMariaDB.pdf"
   ]
  },
  {
   "cell_type": "markdown",
   "metadata": {},
   "source": [
    "##### Instalar o pacote RMariaDB"
   ]
  },
  {
   "cell_type": "code",
   "execution_count": 1,
   "metadata": {},
   "outputs": [
    {
     "name": "stdout",
     "output_type": "stream",
     "text": [
      "package 'RMariaDB' successfully unpacked and MD5 sums checked\n",
      "\n",
      "The downloaded binary packages are in\n",
      "\tC:\\Users\\Vithep\\AppData\\Local\\Temp\\RtmpKQYvfc\\downloaded_packages\n"
     ]
    },
    {
     "name": "stderr",
     "output_type": "stream",
     "text": [
      "Warning message:\n",
      "\"package 'DBI' was built under R version 3.6.3\""
     ]
    }
   ],
   "source": [
    "# Instalar o pacote RMariaD se for a primeira vez que for utlizar.\n",
    "\n",
    "install.packages(\"RMariaDB\")\n",
    "library(DBI)"
   ]
  },
  {
   "cell_type": "markdown",
   "metadata": {},
   "source": [
    "##### Importar o pacote RMariaDB"
   ]
  },
  {
   "cell_type": "code",
   "execution_count": 2,
   "metadata": {},
   "outputs": [
    {
     "name": "stderr",
     "output_type": "stream",
     "text": [
      "Loading required package: RMariaDB\n",
      "Warning message:\n",
      "\"package 'RMariaDB' was built under R version 3.6.3\""
     ]
    }
   ],
   "source": [
    "#importação do pacote deve ser SEMPRE realizada\n",
    "\n",
    "#Importa pacote RMariaDB se ele ainda não foi carregado\n",
    "if(!\"RMariaDB\" %in% (.packages())){require(RMariaDB)}"
   ]
  },
  {
   "cell_type": "markdown",
   "metadata": {},
   "source": [
    "**Observação 1:** A mensagem abaixo não indica um erro, é um alerta indicando a versão do R no qual o pacote RMariaDB foi construindo.\n",
    "\n",
    "*Loading required package: RMariaDB\n",
    "Warning message:\n",
    "\"package 'RMariaDB' was built under R version 3.6.3\"*\n",
    "\n",
    "**Observação 2:** A mensagem abaixo indica um erro, alertando que não existe o pacote RMariaDB instalado. Para corrigir, instale o pacote.\n",
    "\n",
    "*Loading required package: RMariaDB\n",
    "Warning message in library(package, lib.loc = lib.loc, character.only = TRUE, logical.return = TRUE, :\n",
    "\"there is no package called 'RMariaDB'\"*\n"
   ]
  },
  {
   "cell_type": "code",
   "execution_count": 3,
   "metadata": {},
   "outputs": [
    {
     "ename": "ERROR",
     "evalue": "Error in dbReadTable(con, \"estado\"): objeto 'con' não encontrado\n",
     "output_type": "error",
     "traceback": [
      "Error in dbReadTable(con, \"estado\"): objeto 'con' não encontrado\nTraceback:\n",
      "1. dbReadTable(con, \"estado\")"
     ]
    }
   ],
   "source": [
    "resultado <- dbReadTable(con,\"estado\") \n",
    "resultado"
   ]
  },
  {
   "cell_type": "code",
   "execution_count": 4,
   "metadata": {},
   "outputs": [],
   "source": [
    "#Conecta ao SGBD MySQL --> Banco de dados bootcamp\n",
    "con <- dbConnect(MariaDB(), user = \"root\", password = \"igti\",\n",
    "                 dbname = \"bootcamp\", host = \"localhost\",serverTimezone='UTC')"
   ]
  },
  {
   "cell_type": "markdown",
   "metadata": {},
   "source": [
    "**OBS:** Caso ocorra o erro abaixo: \n",
    "*Error: Failed to connect: Plugin caching_sha2_password could not be loaded: The specified module could not be found.*\n",
    "\n",
    "Acesse seu SGBD MySQL Server utilizando o MySQL Workbench e execute o comando abaixo no seu esquema de BD\n",
    "\n",
    "    ALTER USER 'root'@'localhost' IDENTIFIED WITH mysql_native_password BY 'igti';\n",
    "\n",
    "Agora execute o comando de conexão novamente."
   ]
  },
  {
   "cell_type": "code",
   "execution_count": 10,
   "metadata": {},
   "outputs": [
    {
     "data": {
      "text/html": [
       "<ol class=list-inline>\n",
       "\t<li>'caracteristicageralimovel'</li>\n",
       "\t<li>'caracteristicasgerais'</li>\n",
       "\t<li>'cidade'</li>\n",
       "\t<li>'estado'</li>\n",
       "\t<li>'imovel'</li>\n",
       "\t<li>'tipounidade'</li>\n",
       "</ol>\n"
      ],
      "text/latex": [
       "\\begin{enumerate*}\n",
       "\\item 'caracteristicageralimovel'\n",
       "\\item 'caracteristicasgerais'\n",
       "\\item 'cidade'\n",
       "\\item 'estado'\n",
       "\\item 'imovel'\n",
       "\\item 'tipounidade'\n",
       "\\end{enumerate*}\n"
      ],
      "text/markdown": [
       "1. 'caracteristicageralimovel'\n",
       "2. 'caracteristicasgerais'\n",
       "3. 'cidade'\n",
       "4. 'estado'\n",
       "5. 'imovel'\n",
       "6. 'tipounidade'\n",
       "\n",
       "\n"
      ],
      "text/plain": [
       "[1] \"caracteristicageralimovel\" \"caracteristicasgerais\"    \n",
       "[3] \"cidade\"                    \"estado\"                   \n",
       "[5] \"imovel\"                    \"tipounidade\"              "
      ]
     },
     "metadata": {},
     "output_type": "display_data"
    }
   ],
   "source": [
    "#Importa pacote RMariaDB se ele ainda não foi carregado\n",
    "if(!\"RmariaDB\" %in% (.packages())){require(RMariaDB)}\n",
    "\n",
    "#Conecta ao SGBD MySQL --> Banco de dados bootcamp\n",
    "con <- dbConnect(MariaDB(), user =\"root\", password = \"igti\",\n",
    "                  dbname = \"bootcamp\", host = \"localhost\", serverTimezone='UTC')\n",
    "\n",
    "resultado <- dbListTables(con)\n",
    "resultado\n"
   ]
  },
  {
   "cell_type": "code",
   "execution_count": 9,
   "metadata": {},
   "outputs": [
    {
     "ename": "ERROR",
     "evalue": "Error in parse(text = x, srcfile = src): <text>:2:12: ',' inesperado\n1: query = \"INSERT INTO caracteristicageralimovel (idcaracteristicasGerais,idImovel,temCaracteristica) VALUES (%s, %s, %s)\"\n2: values = (4,\n              ^\n",
     "output_type": "error",
     "traceback": [
      "Error in parse(text = x, srcfile = src): <text>:2:12: ',' inesperado\n1: query = \"INSERT INTO caracteristicageralimovel (idcaracteristicasGerais,idImovel,temCaracteristica) VALUES (%s, %s, %s)\"\n2: values = (4,\n              ^\nTraceback:\n"
     ]
    }
   ],
   "source": [
    "query = \"INSERT INTO caracteristicageralimovel (idcaracteristicasGerais,idImovel,temCaracteristica) VALUES (%s, %s, %s)\"\n",
    "values = (4,22,1)\n",
    "\n",
    "mycursor.sendQuery(query, values)\n",
    "\n",
    "mydb.commit()"
   ]
  },
  {
   "cell_type": "code",
   "execution_count": null,
   "metadata": {},
   "outputs": [],
   "source": [
    "filename <- \"C:/Users/Vithep/Desktop/arquivoscomplementaresTrabalhoPratico/caracteristicasgerais.csv\"\n",
    "insertdata <- read.csv(file=filename, header=TRUE, sep=\",\")\n",
    "insertdata\n",
    "\n",
    "dbWriteTable(con, value = query, row.names = FALSE, name = \"caracteristicasgerais\", append = TRUE )"
   ]
  },
  {
   "cell_type": "code",
   "execution_count": null,
   "metadata": {},
   "outputs": [],
   "source": [
    "#Para listar quais tabela existem no esquema .bootcamp. execute:\n",
    "\n",
    "#Lê a lista de tabelas no BD\n",
    "tables <- dbListTables(con) \n",
    "tables"
   ]
  },
  {
   "cell_type": "code",
   "execution_count": null,
   "metadata": {},
   "outputs": [],
   "source": [
    "#Para consultar quais os dados de uma tabela execute:\n",
    "# dbReadTable(nome-da-conexao,\"nome-da-tabela\")\n",
    "\n",
    "#Consulta os dados da tabela *estado*\n",
    "tabledata <- dbReadTable(con,\"estado\")\n",
    "tabledata"
   ]
  },
  {
   "cell_type": "markdown",
   "metadata": {},
   "source": [
    "**OBS:** Veja que o resultado do comando acima demonstra que a tabela 'estado' não possue dados."
   ]
  },
  {
   "cell_type": "code",
   "execution_count": null,
   "metadata": {},
   "outputs": [],
   "source": [
    "#Consulta os dados da tabela *tipounidade*\n",
    "tabledata <- dbReadTable(con,\"tipounidade\")\n",
    "tabledata"
   ]
  },
  {
   "cell_type": "markdown",
   "metadata": {},
   "source": [
    "**OBS:** Veja que o resultado do comando acima demonstra que a tabela 'tipounidade' possue alguns dados."
   ]
  },
  {
   "cell_type": "code",
   "execution_count": null,
   "metadata": {},
   "outputs": [],
   "source": [
    "#Para executar um comando SQL execute:\n",
    "#dbSendQuery(nome-da-conexao,\"comando\")\n",
    "\n",
    "# Vamos inserir uma nova linha na tabela tipounidade\n",
    "# Cria o comando e salva na variável query\n",
    "query <-  \"INSERT INTO tipounidade(idTipoUnidade,dscTipoUnidade) VALUES(7,'Loft');\"\n",
    "\n",
    "results <- dbSendQuery(con,query)\n",
    "print(results)\n",
    "\n",
    "# Limpa resultados\n",
    "dbClearResult(results)"
   ]
  },
  {
   "cell_type": "markdown",
   "metadata": {},
   "source": [
    "**OBS 1:** Caso ocorra o erro: *Error: Duplicate entry '6' for key 'tipounidade.PRIMARY' [1062]*\n",
    "\n",
    "Isso significa que você violou a chave primária, ou seja, tentou inserir uma chave que já existe. Confira o valor da chave que esta inserindo, altere, e execute novamente.\n",
    "\n",
    "**OBS 2:** Caso ocorra o erro: *Error: Column count doesn't match value count at row 1 [1136]*\n",
    "Isso significa que você esta inserindo dados não compatíveis com a definição da tabela.\n"
   ]
  },
  {
   "cell_type": "code",
   "execution_count": null,
   "metadata": {},
   "outputs": [],
   "source": [
    "#Consulta os dados da tabela *tipounidade*\n",
    "tabledata <- dbReadTable(con,\"tipounidade\")\n",
    "tabledata"
   ]
  },
  {
   "cell_type": "code",
   "execution_count": null,
   "metadata": {},
   "outputs": [],
   "source": [
    "id <- 8\n",
    "desc <- 'Chácara'\n",
    "\n",
    "query <-  paste(\"INSERT INTO tipounidade(idTipoUnidade,dscTipoUnidade) VALUES(\",id,\",'\",desc,\"');\",sep='')\n",
    "\n",
    "results <- dbSendQuery(con,query)\n",
    "print(results)\n",
    "\n",
    "# Limpa resultados\n",
    "dbClearResult(results)"
   ]
  },
  {
   "cell_type": "code",
   "execution_count": null,
   "metadata": {},
   "outputs": [],
   "source": [
    "#Consulta os dados da tabela *tipounidade*\n",
    "tabledata <- dbReadTable(con,\"tipounidade\")\n",
    "tabledata"
   ]
  },
  {
   "cell_type": "markdown",
   "metadata": {},
   "source": [
    "##### Instalar o pacote xlsx"
   ]
  },
  {
   "cell_type": "code",
   "execution_count": null,
   "metadata": {},
   "outputs": [],
   "source": [
    "install.packages('xlsx')"
   ]
  },
  {
   "cell_type": "markdown",
   "metadata": {},
   "source": [
    "##### Importar o pacote xlsx"
   ]
  },
  {
   "cell_type": "code",
   "execution_count": null,
   "metadata": {},
   "outputs": [],
   "source": [
    "#Importa pacote xlsx se ele ainda não foi carregado\n",
    "if(!\"xlsx\" %in% (.packages())){require(xlsx)}"
   ]
  },
  {
   "cell_type": "code",
   "execution_count": null,
   "metadata": {},
   "outputs": [],
   "source": [
    "#Antes de excutar esta célula, garanta que o caminho do arquivo estados.xlsx esteja correto.\n",
    "\n",
    "filename <- \"C:/Users/Vithep/Desktop/arquivoscomplementaresTrabalhoPratico/estados.xlsx\"\n",
    "print(filename)\n",
    "\n",
    "insertdata <- read.xlsx(filename, sheetIndex=1, header=TRUE,encoding=\"UTF-8\")\n",
    "print(\"Lista de estados existentes no arquivo:\")\n",
    "insertdata"
   ]
  },
  {
   "cell_type": "markdown",
   "metadata": {},
   "source": [
    "**OBS:** As colunas da tabela estado são: *CodEstadoIBGE,NomeEstado,SiglaEstado,Regiao*\n"
   ]
  },
  {
   "cell_type": "code",
   "execution_count": null,
   "metadata": {},
   "outputs": [],
   "source": [
    "dbWriteTable(con,'estado',insertdata,append = TRUE)"
   ]
  },
  {
   "cell_type": "code",
   "execution_count": null,
   "metadata": {},
   "outputs": [],
   "source": [
    "#Consulta os dados da tabela *estado*\n",
    "results <- dbReadTable(con,\"estado\")\n",
    "results"
   ]
  },
  {
   "cell_type": "code",
   "execution_count": null,
   "metadata": {},
   "outputs": [],
   "source": [
    "query <- \"SELECT * FROM estado;\"\n",
    "\n",
    "results <- dbSendQuery(con,query)\n",
    "results"
   ]
  },
  {
   "cell_type": "markdown",
   "metadata": {},
   "source": [
    "**Obs:** O retorno do comando *dbSendQuery* indica que se o comando SQL passado para a variável *query* foi executado com sucesso ou não."
   ]
  },
  {
   "cell_type": "code",
   "execution_count": null,
   "metadata": {},
   "outputs": [],
   "source": [
    "# Limpa resultados\n",
    "dbClearResult(results)\n",
    "\n",
    "results <- dbGetQuery(con,query)\n",
    "results"
   ]
  },
  {
   "cell_type": "code",
   "execution_count": null,
   "metadata": {},
   "outputs": [],
   "source": [
    "# Verifique se o caminho do arquivo existe.\n",
    "\n",
    "#Salvar o resultado da query no arquivo CSV\n",
    "write.csv(results,\"C:/Bootcamp/Datasets/CSV/estadosDB.csv\",row.names=FALSE,quote=FALSE)\n",
    "\n",
    "#Realizar o commit\n",
    "#dbCommit(con)"
   ]
  },
  {
   "cell_type": "code",
   "execution_count": null,
   "metadata": {},
   "outputs": [],
   "source": [
    "# Desconectar do banco de dados\n",
    "dbDisconnect(con)"
   ]
  },
  {
   "cell_type": "markdown",
   "metadata": {},
   "source": [
    "## A partir daqui você deve alterar seu notebook conforme orientações da atividade 8 do enunciado do trabalho prático."
   ]
  },
  {
   "cell_type": "markdown",
   "metadata": {},
   "source": [
    "Nas células abaixo foram deixadas algumas dicas para você seguir."
   ]
  },
  {
   "cell_type": "markdown",
   "metadata": {},
   "source": [
    "##### 1º) Importar as bibliotecas RMariaDB "
   ]
  },
  {
   "cell_type": "code",
   "execution_count": null,
   "metadata": {},
   "outputs": [],
   "source": [
    "#Se você já importou anteriormente e não resetou seu kernel, não será necessário importar\n"
   ]
  },
  {
   "cell_type": "markdown",
   "metadata": {},
   "source": [
    "##### 2º) Fazer a conexão com seu banco de dados"
   ]
  },
  {
   "cell_type": "code",
   "execution_count": null,
   "metadata": {},
   "outputs": [],
   "source": []
  },
  {
   "cell_type": "markdown",
   "metadata": {},
   "source": [
    "##### 3º) Abrir o arquivo 'caracteristicasgerais.csv'"
   ]
  },
  {
   "cell_type": "code",
   "execution_count": null,
   "metadata": {},
   "outputs": [],
   "source": []
  },
  {
   "cell_type": "markdown",
   "metadata": {},
   "source": [
    "##### 4º) Inserir dados na tabela 'caracteristicasgerais'"
   ]
  },
  {
   "cell_type": "code",
   "execution_count": null,
   "metadata": {},
   "outputs": [],
   "source": []
  },
  {
   "cell_type": "markdown",
   "metadata": {},
   "source": [
    "##### 5º) Consultar a tabela 'caracteristicasgerais' para verificar se os dados foram inseridos corretamente."
   ]
  },
  {
   "cell_type": "code",
   "execution_count": null,
   "metadata": {},
   "outputs": [],
   "source": []
  },
  {
   "cell_type": "markdown",
   "metadata": {},
   "source": [
    "##### Fim!"
   ]
  },
  {
   "cell_type": "code",
   "execution_count": null,
   "metadata": {},
   "outputs": [],
   "source": []
  }
 ],
 "metadata": {
  "kernelspec": {
   "display_name": "R",
   "language": "R",
   "name": "ir"
  },
  "language_info": {
   "codemirror_mode": "r",
   "file_extension": ".r",
   "mimetype": "text/x-r-source",
   "name": "R",
   "pygments_lexer": "r",
   "version": "3.6.1"
  }
 },
 "nbformat": 4,
 "nbformat_minor": 4
}
